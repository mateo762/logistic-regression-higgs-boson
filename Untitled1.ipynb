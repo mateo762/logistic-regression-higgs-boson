{
 "cells": [
  {
   "cell_type": "code",
   "execution_count": 6,
   "id": "2ae58a4c",
   "metadata": {},
   "outputs": [],
   "source": [
    "\n",
    "import numpy as np\n",
    "def build_poly(tx, degree):\n",
    "    \"\"\"polynomial basis functions for input data x, for j=0 up to j=degree.\"\"\"\n",
    "    # ***************************************************\n",
    "    # INSERT YOUR CODE HERE\n",
    "    # polynomial basis function: TODO\n",
    "    # this function should return the matrix formed\n",
    "    # by applying the polynomial basis to the input data\n",
    "    # ***************************************************    matrix = np.zeros((len(x),degree+1))\n",
    "    nb_coeff = (tx.shape[1] -1) * degree + 1\n",
    "    matrix = np.zeros((tx.shape[0], nb_coeff))\n",
    "    N = tx.shape[0]\n",
    "    for i in range(N):\n",
    "        matrix[i][0]=1\n",
    "        for j in range(1, degree + 1):\n",
    "            for l in range(1, tx.shape[1]):\n",
    "                matrix[i][(j -1) *(tx.shape[1]-1) + l ] = np.power(tx[i][l],j)\n",
    "            \n",
    "    return matrix\n",
    "    "
   ]
  },
  {
   "cell_type": "code",
   "execution_count": 8,
   "id": "d589f0e0",
   "metadata": {},
   "outputs": [
    {
     "name": "stdout",
     "output_type": "stream",
     "text": [
      "[[1. 1. 2. 3.]\n",
      " [1. 2. 2. 2.]]\n"
     ]
    }
   ],
   "source": [
    "\n",
    "\n",
    "print(build_poly(np.array([[1,1,2,3], [1,2,2,2]]), 1))"
   ]
  },
  {
   "cell_type": "code",
   "execution_count": null,
   "id": "35d83723",
   "metadata": {},
   "outputs": [],
   "source": []
  },
  {
   "cell_type": "code",
   "execution_count": null,
   "id": "5b08335f",
   "metadata": {},
   "outputs": [],
   "source": []
  }
 ],
 "metadata": {
  "kernelspec": {
   "display_name": "Python 3 (ipykernel)",
   "language": "python",
   "name": "python3"
  },
  "language_info": {
   "codemirror_mode": {
    "name": "ipython",
    "version": 3
   },
   "file_extension": ".py",
   "mimetype": "text/x-python",
   "name": "python",
   "nbconvert_exporter": "python",
   "pygments_lexer": "ipython3",
   "version": "3.9.12"
  }
 },
 "nbformat": 4,
 "nbformat_minor": 5
}

{
 "cells": [
  {
   "cell_type": "code",
   "execution_count": 1,
   "id": "84606455",
   "metadata": {},
   "outputs": [],
   "source": [
    "# Useful starting lines\n",
    "%matplotlib inline\n",
    "import numpy as np\n",
    "import matplotlib.pyplot as plt\n",
    "import seaborn as sns\n",
    "import time\n",
    "%load_ext autoreload\n",
    "%autoreload 2\n",
    "from implementations_tanguy import *"
   ]
  },
  {
   "cell_type": "code",
   "execution_count": 2,
   "id": "19d15c79",
   "metadata": {},
   "outputs": [],
   "source": [
    "from helpers import *\n",
    "\n",
    "# load data.\n",
    "particle, products, ids = load_csv_data('data/train.csv', sub_sample= True)"
   ]
  },
  {
   "cell_type": "code",
   "execution_count": 3,
   "id": "151f5abe",
   "metadata": {},
   "outputs": [],
   "source": [
    "# build sampled x and y.\n",
    "seed = 1\n",
    "y = np.expand_dims(particle, axis=1)\n",
    "y, X = sample_data(y, products, seed, size_samples=1000)\n",
    "x, mean_x, std_x = standardize(X)\n",
    "\n",
    "tx = np.c_[np.ones((y.shape[0], 1)), x]"
   ]
  },
  {
   "cell_type": "markdown",
   "id": "4a00bf62-1c46-4524-9b70-4ac3c60e9eba",
   "metadata": {},
   "source": [
    "### Gradient Descent"
   ]
  },
  {
   "cell_type": "code",
   "execution_count": 4,
   "id": "acf01e18-fba6-4fa2-9e5f-2aa420f68dd5",
   "metadata": {},
   "outputs": [
    {
     "name": "stdout",
     "output_type": "stream",
     "text": [
      "(1000, 1) (1000, 30)\n"
     ]
    }
   ],
   "source": [
    "print(y.shape, x.shape)\n",
    "np.seterr(divide = 'ignore') \n",
    "initial_w = np.zeros((tx.shape[1], 1))"
   ]
  },
  {
   "cell_type": "markdown",
   "id": "b00164e2-ea08-4eb5-81a3-c9dead21e0e4",
   "metadata": {},
   "source": [
    "We need to find a balance between the number of iteration and gamma (the step size), the shorter the number of iterations we do, the faster it runs but we stay far away from an optimum loss"
   ]
  },
  {
   "cell_type": "code",
   "execution_count": 6,
   "id": "40e52e91-ab27-477b-a373-07360a978d47",
   "metadata": {},
   "outputs": [
    {
     "name": "stdout",
     "output_type": "stream",
     "text": [
      "loss: 0.9887157191548617 --- 0.0010023117065429688 seconds ---\n"
     ]
    }
   ],
   "source": [
    "start_time = time.time()\n",
    "w_gd, loss_gd = mean_squared_error_gd(y, tx, initial_w, 10, 0.001)\n",
    "print(\"loss:\", np.sqrt(2*loss_gd[0][0]), \"--- %s seconds ---\" % (time.time() - start_time))"
   ]
  },
  {
   "cell_type": "markdown",
   "id": "47dfeb46-8038-48fa-a5f4-eb5d28b8d6ca",
   "metadata": {},
   "source": [
    "If we increment too much the number of iterations then the code becomes really slow"
   ]
  },
  {
   "cell_type": "code",
   "execution_count": 8,
   "id": "46cb480e-b7a0-4c00-a3d7-d9720fd2a1fd",
   "metadata": {},
   "outputs": [
    {
     "name": "stdout",
     "output_type": "stream",
     "text": [
      "loss: 0.8127890774559601 --- 29.194424390792847 seconds ---\n"
     ]
    }
   ],
   "source": [
    "start_time = time.time()\n",
    "w_gd, loss_gd = mean_squared_error_gd(y, tx, initial_w, 1000000, 0.001)\n",
    "print(\"loss:\", np.sqrt(2*loss_gd[0][0]), \"--- %s seconds ---\" % (time.time() - start_time))"
   ]
  },
  {
   "cell_type": "markdown",
   "id": "3d425b16-37fb-4c83-b70a-82174fde68ee",
   "metadata": {},
   "source": [
    "As we can see our loss has reduced significantly, however it took too long to compute"
   ]
  },
  {
   "cell_type": "code",
   "execution_count": 9,
   "id": "348d1f07-dadd-4b74-a5b9-3c4d6fe7c6f0",
   "metadata": {},
   "outputs": [
    {
     "name": "stdout",
     "output_type": "stream",
     "text": [
      "loss: 0.8164649473516559 --- 0.3001716136932373 seconds ---\n"
     ]
    }
   ],
   "source": [
    "start_time = time.time()\n",
    "w_gd, loss_gd = mean_squared_error_gd(y, tx, initial_w, 10000, 0.001)\n",
    "print(\"loss:\", np.sqrt(2*loss_gd[0][0]), \"--- %s seconds ---\" % (time.time() - start_time))"
   ]
  },
  {
   "cell_type": "markdown",
   "id": "8ab43955-27ef-4536-94b1-f77bec139ee5",
   "metadata": {},
   "source": [
    "Here we can see a good balance, the loss has barely increased and the computing time is much lower.\n",
    "The logic is similar respect to gamma, the shorter the step size is, the more iterations we would need to get to the optimal loss"
   ]
  },
  {
   "cell_type": "code",
   "execution_count": 10,
   "id": "43e7b685-54e2-444a-bc88-97c2ac9e0fd9",
   "metadata": {},
   "outputs": [
    {
     "name": "stdout",
     "output_type": "stream",
     "text": [
      "loss: 0.9986612313087819 --- 0.2922194004058838 seconds ---\n"
     ]
    }
   ],
   "source": [
    "start_time = time.time()\n",
    "w_gd, loss_gd = mean_squared_error_gd(y, tx, initial_w, 10000, 0.0000001)\n",
    "print(\"loss:\", np.sqrt(2*loss_gd[0][0]), \"--- %s seconds ---\" % (time.time() - start_time))"
   ]
  },
  {
   "cell_type": "markdown",
   "id": "cefef452-7a96-4f5c-8999-7a5778782285",
   "metadata": {},
   "source": [
    "And the larger the gamma, we might miss the optimal loss and diverge"
   ]
  },
  {
   "cell_type": "markdown",
   "id": "c4b7a462-6fb5-494f-b60a-4a931cbb7da7",
   "metadata": {},
   "source": [
    "### Stochastic Gradient Descent"
   ]
  },
  {
   "cell_type": "code",
   "execution_count": 36,
   "id": "df16dde9-52cc-4543-b9ec-3cd641b30fe3",
   "metadata": {},
   "outputs": [
    {
     "name": "stdout",
     "output_type": "stream",
     "text": [
      "(1000, 1) (1000, 30)\n",
      "loss: 0.8168648518988467 --- 6.728437185287476 seconds ---\n"
     ]
    }
   ],
   "source": [
    "print(y.shape, x.shape)\n",
    "\n",
    "np.seterr(divide = 'ignore') \n",
    "\n",
    "initial_w = np.zeros((tx.shape[1], 1))\n",
    "\n",
    "start_time = time.time()\n",
    "\n",
    "w_sgd, loss_sgd = mean_squared_error_sgd(y, tx, initial_w, 1, 100000, 0.001)\n",
    "print(\"loss:\", np.sqrt(2*loss_sgd[0][0]), \"--- %s seconds ---\" % (time.time() - start_time))"
   ]
  },
  {
   "cell_type": "markdown",
   "id": "daa27569",
   "metadata": {},
   "source": [
    "### EDA"
   ]
  },
  {
   "cell_type": "markdown",
   "id": "89b26b17",
   "metadata": {},
   "source": [
    "import pandas as pd\n",
    "X_panda = pd.DataFrame(X)"
   ]
  },
  {
   "cell_type": "markdown",
   "id": "a35d1d01",
   "metadata": {},
   "source": [
    "plt.figure(figsize=(80,30))\n",
    "plt.rc('font',size=30)\n",
    "sns.heatmap(data = X_panda.corr().round(2),vmin = -1, vmax = 1, cmap = 'coolwarm',linewidths = .5, annot=True, annot_kws = {\"size\":30})\n",
    "plt.show()\n",
    "\n",
    "along the diagonal 1 --> my correlation between the same feature\n",
    "4,5,6,12 --> seem to be correlated (correlation score between 0.95 and 1)\n",
    "from 21 to 29 --> more or less correlated\n",
    "from 3 to 12 and from 21 to 29 seem to be correlated"
   ]
  },
  {
   "cell_type": "markdown",
   "id": "768990be",
   "metadata": {},
   "source": [
    "### LEAST SQUARES WITH NORMAL EQUATIONS"
   ]
  },
  {
   "cell_type": "code",
   "execution_count": 4,
   "id": "2e20dc6a",
   "metadata": {},
   "outputs": [
    {
     "name": "stdout",
     "output_type": "stream",
     "text": [
      "(400, 1) (400, 30)\n",
      "0.7909509230712314\n"
     ]
    }
   ],
   "source": [
    "print(y.shape, x.shape)\n",
    "\n",
    "w_ls , loss_ls = least_squares(y,tx)\n",
    "print(np.sqrt(2*loss_ls[0][0]))\n",
    "\n",
    "#print(w_ls)"
   ]
  },
  {
   "cell_type": "markdown",
   "id": "0a6a1305",
   "metadata": {},
   "source": [
    "### Logistic Regression"
   ]
  },
  {
   "cell_type": "code",
   "execution_count": 29,
   "id": "5cf8f702",
   "metadata": {},
   "outputs": [
    {
     "name": "stdout",
     "output_type": "stream",
     "text": [
      "loss 0.905290576892303\n"
     ]
    }
   ],
   "source": [
    "np.seterr(divide = 'ignore') \n",
    "\n",
    "initial_w = np.zeros((tx.shape[1], 1))\n",
    "\n",
    "iter_num = 10000000\n",
    "gamma = 0.00001\n",
    "w_lr, loss_lr = logistic_regression(y,tx, initial_w, iter_num, gamma)\n",
    "print(\"loss\", np.sqrt(2*loss_lr[0][0]))\n",
    "#print(w_ls, \"\\n\", w_lr)\n",
    "\n",
    "#the loss becomes negative if we choose to big of a gamma and number of iterations\n",
    "#it seems that at some point we go past the global minimum and start diverging \n",
    "#having a very small gamma solves this problem\n",
    "#the minimal value I could find is 0.8540791315850801 (with rmse 100 samples)\n",
    "\n",
    "\n",
    "# with 400 samples --> when gamma = 0.0001\n",
    "# it diverges because when iterations increases the loss increases\n",
    "# with gamma = 0.00007 or lower --> it does not diverge (RMSE 0.88633 with 10000 iter, same for 100000)\n",
    "#after 10000 iter the loss reduces very slowly --> we are close to the optimum and the remaining 90000 iter are\n",
    "# just fine refinements (we are moving around the optimum)\n",
    "# as gamma increases --> computational time decreases but only under a certain threshold\n"
   ]
  },
  {
   "cell_type": "code",
   "execution_count": 30,
   "id": "0ef0b127",
   "metadata": {},
   "outputs": [
    {
     "name": "stdout",
     "output_type": "stream",
     "text": [
      "0.18047572392310723\n"
     ]
    }
   ],
   "source": [
    "print(np.linalg.norm(w_lr))\n",
    "\n",
    "# as the number of iterations increases the norm increases"
   ]
  },
  {
   "cell_type": "markdown",
   "id": "323da774",
   "metadata": {},
   "source": [
    "### Linear Cross-validation (half-half)"
   ]
  },
  {
   "cell_type": "code",
   "execution_count": 5,
   "id": "a08a3b07",
   "metadata": {},
   "outputs": [
    {
     "name": "stdout",
     "output_type": "stream",
     "text": [
      "train loss :  [[0.84321116]] test loss :  [[0.84932374]]\n"
     ]
    }
   ],
   "source": [
    "from cross_validation import *\n",
    "\n",
    "\n",
    "\n",
    "k_indices = build_k_indices(y, 2, 1)\n",
    "loss_train, loss_test = cross_validation_linear_gd(y, x,  k_indices, 1)\n",
    "print(\"train loss : \", loss_train, \"test loss : \", loss_test)\n",
    "\n",
    "#there s some overfit with linear regression"
   ]
  },
  {
   "cell_type": "markdown",
   "id": "7b503e48",
   "metadata": {},
   "source": [
    "### cross_validation of logistic regression "
   ]
  },
  {
   "cell_type": "code",
   "execution_count": 31,
   "id": "186916b3",
   "metadata": {},
   "outputs": [
    {
     "name": "stdout",
     "output_type": "stream",
     "text": [
      "train loss :  [[0.90813365]] test loss :  [[0.88699132]]\n"
     ]
    }
   ],
   "source": [
    "loss_train, loss_test = cross_validation_logistic_regression(y, x,  k_indices, 1)\n",
    "print(\"train loss : \", loss_train, \"test loss : \", loss_test)\n",
    "\n",
    "# model is generalizable (test loss is lower than train loss)\n",
    "# logistic regression is more appropriate to this dataset as y is binary\n",
    "# there might be a bit of underfit "
   ]
  },
  {
   "cell_type": "markdown",
   "id": "5271bc12",
   "metadata": {},
   "source": [
    "### Find best lambda for ridge regression"
   ]
  },
  {
   "cell_type": "code",
   "execution_count": 8,
   "id": "072ab4b2",
   "metadata": {},
   "outputs": [
    {
     "name": "stdout",
     "output_type": "stream",
     "text": [
      " the choice of lambda which leads to the best test rmse is 0.07880 with a test rmse of 0.843\n"
     ]
    },
    {
     "data": {
      "image/png": "[encoded data removed]",
      "text/plain": [
       "<Figure size 432x288 with 1 Axes>"
      ]
     },
     "metadata": {
      "needs_background": "light"
     },
     "output_type": "display_data"
    }
   ],
   "source": [
    "best_lambda, best_rmse = find_best_lambda_ridge_regression(x, y, 7, np.logspace(-4, 0, 30))"
   ]
  },
  {
   "cell_type": "markdown",
   "id": "ea23eca7",
   "metadata": {},
   "source": [
    "### Penalized logistic regression"
   ]
  },
  {
   "cell_type": "code",
   "execution_count": 40,
   "id": "befbb685",
   "metadata": {},
   "outputs": [
    {
     "name": "stdout",
     "output_type": "stream",
     "text": [
      "loss 0.9302020251662649\n"
     ]
    }
   ],
   "source": [
    "np.seterr(divide = 'ignore') \n",
    "\n",
    "initial_w = np.zeros((tx.shape[1], 1))\n",
    "\n",
    "lambda_ = 1\n",
    "\n",
    "w_lr, loss_lr = reg_logistic_regression(y,tx, lambda_, initial_w, 100000, 0.00001)\n",
    "print(\"loss\", np.sqrt(2*loss_lr[0][0]))\n",
    "#print(w_ls, \"\\n\", w_lr)\n",
    "\n",
    "# if gamma bigger than 0.00001 --> diverge\n",
    "# if lambda = 0 --> no regularization (loss 0.88632)\n",
    "# if lambda increases --> loss increases (0.8898)--> l2 norm of final weights vector decreases\n",
    "# we avoid overfitting because we penalize large weights with the L2 norm\n",
    "# if we set lambda to zero --> we go back to normal logistic regression\n",
    "# "
   ]
  },
  {
   "cell_type": "code",
   "execution_count": 41,
   "id": "e7a59ec4",
   "metadata": {},
   "outputs": [
    {
     "data": {
      "text/plain": [
       "0.1297329413911314"
      ]
     },
     "execution_count": 41,
     "metadata": {},
     "output_type": "execute_result"
    }
   ],
   "source": [
    "np.linalg.norm(w_lr)"
   ]
  },
  {
   "cell_type": "markdown",
   "id": "8184e769",
   "metadata": {},
   "source": [
    "### Cross-validation of penalized logistic regression"
   ]
  },
  {
   "cell_type": "code",
   "execution_count": 48,
   "id": "4f11d1b1",
   "metadata": {},
   "outputs": [
    {
     "name": "stdout",
     "output_type": "stream",
     "text": [
      "train loss :  [[0.90813373]] test loss :  [[0.8869914]]\n"
     ]
    }
   ],
   "source": [
    "from cross_validation import *\n",
    "k=1\n",
    "lambda_=0.000001\n",
    "loss_train, loss_test = cross_validation_reg_logistic_regression(y, x, k_indices, k,lambda_)\n",
    "print(\"train loss : \", loss_train, \"test loss : \", loss_test)\n",
    "\n",
    "# we see that the loss both with logistic regression and reg logistic regression is similar\n",
    "# no need to regularize because the data are not lineraly separable \n",
    "# (if they were --> we would never find a vector with logistic regression as it would go to infinity)\n",
    "# test loss is better with log than reg log\n"
   ]
  },
  {
   "cell_type": "markdown",
   "id": "f57ed35c",
   "metadata": {},
   "source": [
    "### Find best lambda for regularized logistic regression"
   ]
  },
  {
   "cell_type": "code",
   "execution_count": 12,
   "id": "e8b1a1e1",
   "metadata": {},
   "outputs": [
    {
     "name": "stdout",
     "output_type": "stream",
     "text": [
      " the choice of lambda which leads to the best test rmse is 0.00010 with a test rmse of 0.892\n"
     ]
    },
    {
     "data": {
      "image/png": "[encoded data removed]",
      "text/plain": [
       "<Figure size 432x288 with 1 Axes>"
      ]
     },
     "metadata": {
      "needs_background": "light"
     },
     "output_type": "display_data"
    }
   ],
   "source": [
    "best_lambda, best_rmse = find_best_lambda_reg_logistic_regression(x, y, 7, np.logspace(-4, 0, 30))\n",
    "\n",
    "# we see that when regularizing --> we just increase rmse both for train and test \n",
    "# do not understand why reversed"
   ]
  },
  {
   "cell_type": "code",
   "execution_count": null,
   "id": "171e23f6",
   "metadata": {},
   "outputs": [],
   "source": []
  }
 ],
 "metadata": {
  "kernelspec": {
   "display_name": "Python 3",
   "language": "python",
   "name": "python3"
  },
  "language_info": {
   "codemirror_mode": {
    "name": "ipython",
    "version": 3
   },
   "file_extension": ".py",
   "mimetype": "text/x-python",
   "name": "python",
   "nbconvert_exporter": "python",
   "pygments_lexer": "ipython3",
   "version": "3.8.8"
  }
 },
 "nbformat": 4,
 "nbformat_minor": 5
}

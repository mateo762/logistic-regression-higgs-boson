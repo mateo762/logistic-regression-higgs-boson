{
 "cells": [
  {
   "cell_type": "code",
   "execution_count": 50,
   "id": "84606455",
   "metadata": {},
   "outputs": [
    {
     "name": "stdout",
     "output_type": "stream",
     "text": [
      "The autoreload extension is already loaded. To reload it, use:\n",
      "  %reload_ext autoreload\n"
     ]
    }
   ],
   "source": [
    "# Useful starting lines\n",
    "%matplotlib inline\n",
    "import numpy as np\n",
    "import matplotlib.pyplot as plt\n",
    "%load_ext autoreload\n",
    "%autoreload 2\n",
    "from implementations_tanguy import *"
   ]
  },
  {
   "cell_type": "code",
   "execution_count": 51,
   "id": "19d15c79",
   "metadata": {},
   "outputs": [],
   "source": [
    "from helpers import *\n",
    "\n",
    "# load data.\n",
    "particle, products, ids = load_csv_data('data/train.csv', sub_sample= True)"
   ]
  },
  {
   "cell_type": "code",
   "execution_count": 103,
   "id": "151f5abe",
   "metadata": {},
   "outputs": [],
   "source": [
    "# build sampled x and y.\n",
    "seed = 1\n",
    "y = np.expand_dims(particle, axis=1)\n",
    "y, X = sample_data(y, products, seed, size_samples=100)\n",
    "x, mean_x, std_x = standardize(X)\n",
    "\n",
    "tx = np.c_[np.ones((y.shape[0], 1)), x]"
   ]
  },
  {
   "cell_type": "code",
   "execution_count": null,
   "id": "ce85ef4a",
   "metadata": {},
   "outputs": [],
   "source": []
  },
  {
   "cell_type": "markdown",
   "id": "768990be",
   "metadata": {},
   "source": [
    "### LEAST SQUARES WITH NORMAL EQUATIONS"
   ]
  },
  {
   "cell_type": "code",
   "execution_count": 104,
   "id": "2e20dc6a",
   "metadata": {},
   "outputs": [
    {
     "name": "stdout",
     "output_type": "stream",
     "text": [
      "(100, 1) (100, 30)\n",
      "0.6815592797922434\n"
     ]
    }
   ],
   "source": [
    "print(y.shape, x.shape)\n",
    "\n",
    "w_ls , loss_ls = least_squares(y,tx)\n",
    "print(np.sqrt(2*loss_ls[0][0]))\n",
    "\n",
    "#print(w_ls)"
   ]
  },
  {
   "cell_type": "code",
   "execution_count": null,
   "id": "9e97699a",
   "metadata": {},
   "outputs": [],
   "source": []
  },
  {
   "cell_type": "markdown",
   "id": "0a6a1305",
   "metadata": {},
   "source": [
    "### Logistic Regression"
   ]
  },
  {
   "cell_type": "code",
   "execution_count": 105,
   "id": "5cf8f702",
   "metadata": {},
   "outputs": [
    {
     "name": "stdout",
     "output_type": "stream",
     "text": [
      "loss 0.8540743737271365\n"
     ]
    }
   ],
   "source": [
    "np.seterr(divide = 'ignore') \n",
    "\n",
    "initial_w = np.zeros((tx.shape[1], 1))\n",
    "\n",
    "\n",
    "w_lr, loss_lr = logistic_regression(y,tx, initial_w, 100000, 0.00001)\n",
    "print(\"loss\", np.sqrt(2*loss_lr[0][0]))\n",
    "#print(w_ls, \"\\n\", w_lr)\n",
    "\n",
    "#the loss becomes negative if we choose to big of a gamma and number of iterations\n",
    "#it seems that at some point we go past the global minimum and start diverging \n",
    "#having a very small gamma solves this problem\n",
    "#the minimal value I could find is 0.3665784"
   ]
  },
  {
   "cell_type": "markdown",
   "id": "323da774",
   "metadata": {},
   "source": [
    "### Linear Cross-validation (half-half)"
   ]
  },
  {
   "cell_type": "code",
   "execution_count": 106,
   "id": "a08a3b07",
   "metadata": {},
   "outputs": [
    {
     "name": "stdout",
     "output_type": "stream",
     "text": [
      "train loss :  [[0.74812735]] test loss :  [[0.90850003]]\n"
     ]
    }
   ],
   "source": [
    "from cross_validation import *\n",
    "\n",
    "\n",
    "\n",
    "k_indices = build_k_indices(y, 2, 1)\n",
    "loss_train, loss_test = cross_validation_linear_gd(y, x,  k_indices, 1)\n",
    "print(\"train loss : \", loss_train, \"test loss : \", loss_test)\n",
    "\n"
   ]
  },
  {
   "cell_type": "markdown",
   "id": "7b503e48",
   "metadata": {},
   "source": [
    "### cross_validation of logistic regression "
   ]
  },
  {
   "cell_type": "code",
   "execution_count": 107,
   "id": "186916b3",
   "metadata": {},
   "outputs": [
    {
     "name": "stdout",
     "output_type": "stream",
     "text": [
      "train loss :  [[0.85936653]] test loss :  [[0.7800489]]\n"
     ]
    }
   ],
   "source": [
    "\n",
    "loss_train, loss_test = cross_validation_logistic_regression(y, x,  k_indices, 1)\n",
    "print(\"train loss : \", loss_train, \"test loss : \", loss_test)"
   ]
  },
  {
   "cell_type": "markdown",
   "id": "5271bc12",
   "metadata": {},
   "source": [
    "### Find best lambda for ridge regression"
   ]
  },
  {
   "cell_type": "code",
   "execution_count": 108,
   "id": "072ab4b2",
   "metadata": {},
   "outputs": [
    {
     "name": "stdout",
     "output_type": "stream",
     "text": [
      " the choice of lambda which leads to the best test rmse is 0.38566 with a test rmse of 0.844\n"
     ]
    },
    {
     "data": {
      "image/png": "[encoded data removed]",
      "text/plain": [
       "<Figure size 432x288 with 1 Axes>"
      ]
     },
     "metadata": {
      "needs_background": "light"
     },
     "output_type": "display_data"
    }
   ],
   "source": [
    "best_lambda, best_rmse = find_best_lambda_ridge_regression(x, y, 7, np.logspace(-4, 0, 30))"
   ]
  },
  {
   "cell_type": "code",
   "execution_count": null,
   "id": "c12d68af",
   "metadata": {},
   "outputs": [],
   "source": []
  }
 ],
 "metadata": {
  "kernelspec": {
   "display_name": "Python 3 (ipykernel)",
   "language": "python",
   "name": "python3"
  },
  "language_info": {
   "codemirror_mode": {
    "name": "ipython",
    "version": 3
   },
   "file_extension": ".py",
   "mimetype": "text/x-python",
   "name": "python",
   "nbconvert_exporter": "python",
   "pygments_lexer": "ipython3",
   "version": "3.9.12"
  }
 },
 "nbformat": 4,
 "nbformat_minor": 5
}

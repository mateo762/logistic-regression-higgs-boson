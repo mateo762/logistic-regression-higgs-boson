{
 "cells": [
  {
   "cell_type": "code",
   "execution_count": 4,
   "id": "d9f478d4",
   "metadata": {},
   "outputs": [],
   "source": [
    "import numpy as np\n",
    "\n",
    "from helpers import load_data\n",
    "\n"
   ]
  },
  {
   "cell_type": "code",
   "execution_count": 6,
   "id": "d7352be1",
   "metadata": {},
   "outputs": [],
   "source": [
    "data=load_data"
   ]
  },
  {
   "cell_type": "code",
   "execution_count": 7,
   "id": "17c252c7",
   "metadata": {},
   "outputs": [
    {
     "data": {
      "text/plain": [
       "<function helpers.load_data()>"
      ]
     },
     "execution_count": 7,
     "metadata": {},
     "output_type": "execute_result"
    }
   ],
   "source": [
    "data"
   ]
  },
  {
   "cell_type": "code",
   "execution_count": null,
   "id": "42e249df",
   "metadata": {},
   "outputs": [],
   "source": []
  }
 ],
 "metadata": {
  "kernelspec": {
   "display_name": "Python 3",
   "language": "python",
   "name": "python3"
  },
  "language_info": {
   "codemirror_mode": {
    "name": "ipython",
    "version": 3
   },
   "file_extension": ".py",
   "mimetype": "text/x-python",
   "name": "python",
   "nbconvert_exporter": "python",
   "pygments_lexer": "ipython3",
   "version": "3.8.8"
  }
 },
 "nbformat": 4,
 "nbformat_minor": 5
}

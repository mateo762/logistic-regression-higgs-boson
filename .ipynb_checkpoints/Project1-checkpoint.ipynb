{
 "cells": [
  {
   "cell_type": "code",
   "execution_count": 29,
   "id": "fc22a4c1",
   "metadata": {},
   "outputs": [
    {
     "name": "stdout",
     "output_type": "stream",
     "text": [
      "The autoreload extension is already loaded. To reload it, use:\n",
      "  %reload_ext autoreload\n"
     ]
    }
   ],
   "source": [
    "# Useful starting lines\n",
    "%matplotlib inline\n",
    "import numpy as np\n",
    "import matplotlib.pyplot as plt\n",
    "%load_ext autoreload\n",
    "%autoreload 2\n",
    "from implementations_tanguy import *"
   ]
  },
  {
   "cell_type": "code",
   "execution_count": 30,
   "id": "a8b14078",
   "metadata": {},
   "outputs": [],
   "source": [
    "from helpers import *\n",
    "\n",
    "# load data.\n",
    "particle, products, ids = load_csv_data('data/train.csv', sub_sample= True)"
   ]
  },
  {
   "cell_type": "code",
   "execution_count": 31,
   "id": "22279c91",
   "metadata": {},
   "outputs": [],
   "source": [
    "# build sampled x and y.\n",
    "seed = 1\n",
    "y = np.expand_dims(particle, axis=1)\n",
    "y, X = sample_data(y, products, seed, size_samples=150)\n",
    "x, mean_x, std_x = standardize(X)\n",
    "\n",
    "tx = np.c_[np.ones((y.shape[0], 1)), x]"
   ]
  },
  {
   "cell_type": "markdown",
   "id": "42caefed",
   "metadata": {},
   "source": [
    "### LEAST SQUARES WITH NORMAL EQUATIONS"
   ]
  },
  {
   "cell_type": "code",
   "execution_count": 32,
   "id": "355b5b87",
   "metadata": {},
   "outputs": [
    {
     "name": "stdout",
     "output_type": "stream",
     "text": [
      "(150, 1) (150, 30)\n",
      "[[0.27040399]]\n"
     ]
    }
   ],
   "source": [
    "print(y.shape, x.shape)\n",
    "print(least_squares(y,tx)[1])"
   ]
  },
  {
   "cell_type": "markdown",
   "id": "0de9e152",
   "metadata": {},
   "source": [
    "### Logistic Regression"
   ]
  },
  {
   "cell_type": "code",
   "execution_count": 65,
   "id": "19fa8370",
   "metadata": {},
   "outputs": [
    {
     "name": "stdout",
     "output_type": "stream",
     "text": [
      "loss 0.498731715256277\n"
     ]
    }
   ],
   "source": [
    "np.seterr(divide = 'ignore') \n",
    "\n",
    "initial_w = np.zeros((tx.shape[1], 1))\n",
    "\n",
    "print(\"loss\", logistic_regression(y,tx, initial_w, 10000, 0.00000005)[1][0][0])\n",
    "\n",
    "\n",
    "#the loss becomes negative if we choose to big of a gamma and number of iterations\n",
    "#it seems that at some point we go past the global minimum and start diverging \n",
    "#having a very small gamma solves this problem"
   ]
  },
  {
   "cell_type": "code",
   "execution_count": null,
   "id": "d7bb28b9",
   "metadata": {},
   "outputs": [],
   "source": []
  },
  {
   "cell_type": "code",
   "execution_count": null,
   "id": "0b1cb3b2",
   "metadata": {},
   "outputs": [],
   "source": []
  },
  {
   "cell_type": "code",
   "execution_count": null,
   "id": "53515d9c",
   "metadata": {},
   "outputs": [],
   "source": []
  }
 ],
 "metadata": {
  "kernelspec": {
   "display_name": "Python 3 (ipykernel)",
   "language": "python",
   "name": "python3"
  },
  "language_info": {
   "codemirror_mode": {
    "name": "ipython",
    "version": 3
   },
   "file_extension": ".py",
   "mimetype": "text/x-python",
   "name": "python",
   "nbconvert_exporter": "python",
   "pygments_lexer": "ipython3",
   "version": "3.9.12"
  }
 },
 "nbformat": 4,
 "nbformat_minor": 5
}

{
 "cells": [
  {
   "cell_type": "code",
   "execution_count": 8,
   "id": "f04b49aa",
   "metadata": {},
   "outputs": [
    {
     "name": "stdout",
     "output_type": "stream",
     "text": [
      "The autoreload extension is already loaded. To reload it, use:\n",
      "  %reload_ext autoreload\n"
     ]
    }
   ],
   "source": [
    "# Useful starting lines\n",
    "%matplotlib inline\n",
    "import numpy as np\n",
    "import matplotlib.pyplot as plt\n",
    "import seaborn as sns\n",
    "import time\n",
    "from scipy import stats\n",
    "%load_ext autoreload\n",
    "%autoreload 2\n",
    "from implementations import *\n",
    "from cross_validation import *"
   ]
  },
  {
   "cell_type": "code",
   "execution_count": 2,
   "id": "69e4bcd2",
   "metadata": {},
   "outputs": [],
   "source": [
    "from helpers import *\n",
    "\n",
    "# load data.\n",
    "particle, products, ids = load_csv_data('data/train.csv', sub_sample= True)"
   ]
  },
  {
   "cell_type": "code",
   "execution_count": 3,
   "id": "413175af",
   "metadata": {},
   "outputs": [],
   "source": [
    "# build sampled x and y.\n",
    "seed = 1\n",
    "y = np.expand_dims(particle, axis=1)\n",
    "y, X = sample_data(y, products, seed, size_samples=1000)\n",
    "x, mean_x, std_x = standardize(X)\n",
    "\n",
    "tx = np.c_[np.ones((y.shape[0], 1)), x]"
   ]
  },
  {
   "cell_type": "code",
   "execution_count": 4,
   "id": "cce7b70c",
   "metadata": {},
   "outputs": [],
   "source": [
    "def cross_validation_reg_logistic_regression_gamma(y, x, k_indices, k, lambda_, iterations, gamma):\n",
    "    \"\"\"return the loss of ridge regression for a fold corresponding to k_indices\n",
    "\n",
    "    Args:\n",
    "        y:          shape=(N,)\n",
    "        x:          shape=(N,)\n",
    "        k_indices:  2D array returned by build_k_indices()\n",
    "        k:          scalar, the k-th fold (N.B.: not to confused with k_fold which is the fold nums)\n",
    "        lambda_:    scalar, cf. ridge_regression()\n",
    "        degree:     scalar, cf. build_poly()\n",
    "\n",
    "    Returns:\n",
    "        train and test root mean square errors rmse = sqrt(2 mse)\n",
    "\n",
    "    >>> cross_validation(np.array([1.,2.,3.,4.]), np.array([6.,7.,8.,9.]), np.array([[3,2], [0,1]]), 1, 2, 3)\n",
    "    (0.019866645527597114, 0.33555914361295175)\n",
    "    \"\"\"\n",
    "    train_tx, train_y, test_tx, test_y = separate_data(x, y, k_indices, k)\n",
    "\n",
    "    w, loss_tr = reg_logistic_regression(\n",
    "        train_y, train_tx, lambda_, np.zeros((train_tx.shape[1], 1)), iterations, gamma\n",
    "    )\n",
    "\n",
    "    # rr_test = ridge_regression(test_y, poly_test, lambda_)\n",
    "\n",
    "    loss_te = compute_loss_mse(test_y, test_tx, w) + lambda_ * np.dot(w.T, w)\n",
    "\n",
    "    loss_tr = np.sqrt(2 * loss_tr) + lambda_ * np.dot(w.T, w)\n",
    "\n",
    "    loss_te = np.sqrt(2 * loss_te) + lambda_ * np.dot(w.T, w)\n",
    "\n",
    "    return loss_tr, loss_te"
   ]
  },
  {
   "cell_type": "code",
   "execution_count": 6,
   "id": "fb95c0b5",
   "metadata": {},
   "outputs": [],
   "source": [
    "def find_best_gamma_reg_logistic_regression_gamma(x, y, k_fold, gammas):\n",
    "    \"\"\"cross validation over regularisation parameter lambda.\n",
    "\n",
    "    Args:\n",
    "        k_fold: integer, the number of folds\n",
    "        lambdas: shape = (p, ) where p is the number of values of lambda to test\n",
    "    Returns:\n",
    "        best_lambda : scalar, value of the best lambda\n",
    "        best_rmse : scalar, the associated root mean squared error for the best lambda\n",
    "    \"\"\"\n",
    "    l=0.1\n",
    "    iterations = 100\n",
    "    seed = 12\n",
    "    # split data in k fold\n",
    "    k_indices = build_k_indices(y, k_fold, seed)\n",
    "    # define lists to store the loss of training data and test data\n",
    "    rmse_tr = []\n",
    "    rmse_te = []\n",
    "    # set the best rmse to a maximal value as a start\n",
    "    best_rmse = 101\n",
    "    best_lambda = 0\n",
    "    for g in gammas:\n",
    "        rmse_tr_temp = 0.0\n",
    "        rmse_te_temp = 0.0\n",
    "        for k in range(k_fold):\n",
    "            loss_tr, loss_te = cross_validation_reg_logistic_regression_gamma(\n",
    "                y, x, k_indices, k, l,iterations,g \n",
    "            )\n",
    "\n",
    "            rmse_tr_temp += loss_tr\n",
    "            rmse_te_temp += loss_te\n",
    "        # do the average\n",
    "        rmse_tr_temp = rmse_tr_temp / k_fold\n",
    "        rmse_te_temp = rmse_te_temp / k_fold\n",
    "\n",
    "        if rmse_te_temp < best_rmse:\n",
    "            best_rmse = rmse_te_temp\n",
    "            best_gamma = g\n",
    "        rmse_tr.append(rmse_tr_temp[0])\n",
    "        rmse_te.append(rmse_te_temp[0])\n",
    "\n",
    "    cross_validation_visualization(gammas, rmse_tr, rmse_te)\n",
    "    print(\n",
    "        \" the choice of gamma which leads to the best test rmse is %.5f with a test rmse of %.3f\"\n",
    "        % (best_gamma, best_rmse)\n",
    "    )\n",
    "    return best_lambda, best_rmse"
   ]
  },
  {
   "cell_type": "code",
   "execution_count": 9,
   "id": "000185af",
   "metadata": {},
   "outputs": [
    {
     "name": "stdout",
     "output_type": "stream",
     "text": [
      " the choice of gamma which leads to the best test rmse is 0.00127 with a test rmse of 0.915\n"
     ]
    },
    {
     "data": {
      "text/plain": [
       "(0, array([[0.91488157]]))"
      ]
     },
     "execution_count": 9,
     "metadata": {},
     "output_type": "execute_result"
    },
    {
     "data": {
      "image/png": "[encoded data removed]",
      "text/plain": [
       "<Figure size 432x288 with 1 Axes>"
      ]
     },
     "metadata": {
      "needs_background": "light"
     },
     "output_type": "display_data"
    }
   ],
   "source": [
    "find_best_gamma_reg_logistic_regression_gamma(x, y, 3, np.logspace(-4, 0, 30))"
   ]
  },
  {
   "cell_type": "code",
   "execution_count": null,
   "id": "0fab1010",
   "metadata": {},
   "outputs": [],
   "source": []
  }
 ],
 "metadata": {
  "kernelspec": {
   "display_name": "Python 3",
   "language": "python",
   "name": "python3"
  },
  "language_info": {
   "codemirror_mode": {
    "name": "ipython",
    "version": 3
   },
   "file_extension": ".py",
   "mimetype": "text/x-python",
   "name": "python",
   "nbconvert_exporter": "python",
   "pygments_lexer": "ipython3",
   "version": "3.8.8"
  }
 },
 "nbformat": 4,
 "nbformat_minor": 5
}

{
 "cells": [
  {
   "cell_type": "code",
   "execution_count": 10,
   "id": "cf5e4e30",
   "metadata": {},
   "outputs": [
    {
     "name": "stdout",
     "output_type": "stream",
     "text": [
      "The autoreload extension is already loaded. To reload it, use:\n",
      "  %reload_ext autoreload\n"
     ]
    }
   ],
   "source": [
    "# Useful starting lines\n",
    "%matplotlib inline\n",
    "import numpy as np\n",
    "import matplotlib.pyplot as plt\n",
    "import seaborn as sns\n",
    "import time\n",
    "from scipy import stats\n",
    "%load_ext autoreload\n",
    "%autoreload 2\n",
    "from implementations import *\n",
    "from helpers import *\n",
    "from cross_validation import*\n"
   ]
  },
  {
   "cell_type": "code",
   "execution_count": 22,
   "id": "5d7d5b06",
   "metadata": {},
   "outputs": [],
   "source": [
    "from helpers import *\n",
    "# load data.\n",
    "particle, products, ids = load_csv_data('data/train.csv', sub_sample= True)\n",
    "\n",
    "list_to_log =  [0,1,2,3,4,5, 6, 8,9, 12, 13, 16,19,21,23,24, 25,26,27,28,29]\n",
    "products_logged_and_std = np.zeros(products.shape)\n",
    "\n",
    "\n",
    "for i in range(30):\n",
    "    if i not in list_to_log:\n",
    "        products_logged_and_std[:, i] = products[:, i] -min(products[:, i]) + 1\n",
    "        products_logged_and_std[:, i] = np.log(products_logged_and_std[:, i])   \n",
    "    else:\n",
    "        products_logged_and_std[:, i],_,_ = standardize(products[:, i])\n",
    "\n",
    "# build sampled x and y.\n",
    "seed = 1\n",
    "y = np.expand_dims(particle, axis=1)\n",
    "#y, X = sample_data(y, products, seed, size_samples=1000)\n",
    "y, x = sample_data(y, products_logged_and_std, seed, size_samples=2000)\n",
    "\n",
    "#x, mean_x, std_x = standardize(X)\n",
    "\n",
    "tx = np.c_[np.ones((y.shape[0], 1)), x]"
   ]
  },
  {
   "cell_type": "markdown",
   "id": "fc5afda7",
   "metadata": {},
   "source": [
    "### Removing features"
   ]
  },
  {
   "cell_type": "code",
   "execution_count": 35,
   "id": "b686c222",
   "metadata": {},
   "outputs": [
    {
     "data": {
      "text/plain": [
       "array([[1.        , 0.19014552],\n",
       "       [0.19014552, 1.        ]])"
      ]
     },
     "execution_count": 35,
     "metadata": {},
     "output_type": "execute_result"
    }
   ],
   "source": [
    "np.corrcoef(X[:,0],X[:,-1])"
   ]
  },
  {
   "cell_type": "code",
   "execution_count": 36,
   "id": "636e29ff",
   "metadata": {},
   "outputs": [
    {
     "ename": "NameError",
     "evalue": "name 'corr_matrix' is not defined",
     "output_type": "error",
     "traceback": [
      "\u001b[1;31m---------------------------------------------------------------------------\u001b[0m",
      "\u001b[1;31mNameError\u001b[0m                                 Traceback (most recent call last)",
      "Input \u001b[1;32mIn [36]\u001b[0m, in \u001b[0;36m<cell line: 3>\u001b[1;34m()\u001b[0m\n\u001b[0;32m      1\u001b[0m plt\u001b[38;5;241m.\u001b[39mfigure(figsize\u001b[38;5;241m=\u001b[39m(\u001b[38;5;241m80\u001b[39m,\u001b[38;5;241m30\u001b[39m))\n\u001b[0;32m      2\u001b[0m plt\u001b[38;5;241m.\u001b[39mrc(\u001b[38;5;124m'\u001b[39m\u001b[38;5;124mfont\u001b[39m\u001b[38;5;124m'\u001b[39m,size\u001b[38;5;241m=\u001b[39m\u001b[38;5;241m30\u001b[39m)\n\u001b[1;32m----> 3\u001b[0m sns\u001b[38;5;241m.\u001b[39mheatmap(\u001b[43mcorr_matrix\u001b[49m,vmin \u001b[38;5;241m=\u001b[39m \u001b[38;5;241m-\u001b[39m\u001b[38;5;241m1\u001b[39m, vmax \u001b[38;5;241m=\u001b[39m \u001b[38;5;241m1\u001b[39m, cmap \u001b[38;5;241m=\u001b[39m \u001b[38;5;124m'\u001b[39m\u001b[38;5;124mcoolwarm\u001b[39m\u001b[38;5;124m'\u001b[39m,linewidths \u001b[38;5;241m=\u001b[39m \u001b[38;5;241m.5\u001b[39m, annot\u001b[38;5;241m=\u001b[39m\u001b[38;5;28;01mTrue\u001b[39;00m, annot_kws \u001b[38;5;241m=\u001b[39m {\u001b[38;5;124m\"\u001b[39m\u001b[38;5;124msize\u001b[39m\u001b[38;5;124m\"\u001b[39m:\u001b[38;5;241m30\u001b[39m})\n\u001b[0;32m      4\u001b[0m plt\u001b[38;5;241m.\u001b[39mshow()\n",
      "\u001b[1;31mNameError\u001b[0m: name 'corr_matrix' is not defined"
     ]
    },
    {
     "data": {
      "text/plain": [
       "<Figure size 5760x2160 with 0 Axes>"
      ]
     },
     "metadata": {},
     "output_type": "display_data"
    }
   ],
   "source": [
    "plt.figure(figsize=(80,30))\n",
    "plt.rc('font',size=30)\n",
    "sns.heatmap(corr_matrix,vmin = -1, vmax = 1, cmap = 'coolwarm',linewidths = .5, annot=True, annot_kws = {\"size\":30})\n",
    "plt.show()"
   ]
  },
  {
   "cell_type": "code",
   "execution_count": null,
   "id": "ea0bee05",
   "metadata": {},
   "outputs": [],
   "source": [
    "number_features=X.shape[1]\n",
    "spearman_matrix = np.zeros((number_features,number_features))\n",
    "\n",
    "for i in range(number_features):\n",
    "    for j in range(number_features):\n",
    "        spear,_ = stats.spearmanr(X[:,i],X[:,j])\n",
    "        spearman_matrix[i][j]=spear"
   ]
  },
  {
   "cell_type": "code",
   "execution_count": 33,
   "id": "23daa06e",
   "metadata": {},
   "outputs": [
    {
     "ename": "NameError",
     "evalue": "name 'spearman_matrix' is not defined",
     "output_type": "error",
     "traceback": [
      "\u001b[1;31m---------------------------------------------------------------------------\u001b[0m",
      "\u001b[1;31mNameError\u001b[0m                                 Traceback (most recent call last)",
      "Input \u001b[1;32mIn [33]\u001b[0m, in \u001b[0;36m<cell line: 3>\u001b[1;34m()\u001b[0m\n\u001b[0;32m      1\u001b[0m plt\u001b[38;5;241m.\u001b[39mfigure(figsize\u001b[38;5;241m=\u001b[39m(\u001b[38;5;241m80\u001b[39m,\u001b[38;5;241m30\u001b[39m))\n\u001b[0;32m      2\u001b[0m plt\u001b[38;5;241m.\u001b[39mrc(\u001b[38;5;124m'\u001b[39m\u001b[38;5;124mfont\u001b[39m\u001b[38;5;124m'\u001b[39m,size\u001b[38;5;241m=\u001b[39m\u001b[38;5;241m30\u001b[39m)\n\u001b[1;32m----> 3\u001b[0m sns\u001b[38;5;241m.\u001b[39mheatmap(\u001b[43mspearman_matrix\u001b[49m,vmin \u001b[38;5;241m=\u001b[39m \u001b[38;5;241m-\u001b[39m\u001b[38;5;241m1\u001b[39m, vmax \u001b[38;5;241m=\u001b[39m \u001b[38;5;241m1\u001b[39m, cmap \u001b[38;5;241m=\u001b[39m \u001b[38;5;124m'\u001b[39m\u001b[38;5;124mcoolwarm\u001b[39m\u001b[38;5;124m'\u001b[39m,linewidths \u001b[38;5;241m=\u001b[39m \u001b[38;5;241m.5\u001b[39m, annot\u001b[38;5;241m=\u001b[39m\u001b[38;5;28;01mTrue\u001b[39;00m, annot_kws \u001b[38;5;241m=\u001b[39m {\u001b[38;5;124m\"\u001b[39m\u001b[38;5;124msize\u001b[39m\u001b[38;5;124m\"\u001b[39m:\u001b[38;5;241m30\u001b[39m})\n\u001b[0;32m      4\u001b[0m plt\u001b[38;5;241m.\u001b[39mshow()\n",
      "\u001b[1;31mNameError\u001b[0m: name 'spearman_matrix' is not defined"
     ]
    },
    {
     "data": {
      "text/plain": [
       "<Figure size 5760x2160 with 0 Axes>"
      ]
     },
     "metadata": {},
     "output_type": "display_data"
    }
   ],
   "source": [
    "plt.figure(figsize=(80,30))\n",
    "plt.rc('font',size=30)\n",
    "sns.heatmap(spearman_matrix,vmin = -1, vmax = 1, cmap = 'coolwarm',linewidths = .5, annot=True, annot_kws = {\"size\":30})\n",
    "plt.show()"
   ]
  },
  {
   "cell_type": "code",
   "execution_count": null,
   "id": "22218d22",
   "metadata": {},
   "outputs": [],
   "source": [
    "# create new matrix tx for training\n",
    "\n",
    "axis = 1 #rows (0), columns (1)\n",
    "obj = [4,5,6,9,21,24,25,26,27,28,29]\n",
    "x_reduced = np.delete(x,obj,axis)\n",
    "tx_reduced = np.c_[np.ones((y.shape[0], 1)), x_reduced]\n",
    "#more drastic\n",
    "#21 to 29"
   ]
  },
  {
   "cell_type": "code",
   "execution_count": 34,
   "id": "1ed4e262",
   "metadata": {},
   "outputs": [
    {
     "ename": "NameError",
     "evalue": "name 'x_reduced' is not defined",
     "output_type": "error",
     "traceback": [
      "\u001b[1;31m---------------------------------------------------------------------------\u001b[0m",
      "\u001b[1;31mNameError\u001b[0m                                 Traceback (most recent call last)",
      "Input \u001b[1;32mIn [34]\u001b[0m, in \u001b[0;36m<cell line: 1>\u001b[1;34m()\u001b[0m\n\u001b[1;32m----> 1\u001b[0m number_features\u001b[38;5;241m=\u001b[39m\u001b[43mx_reduced\u001b[49m\u001b[38;5;241m.\u001b[39mshape[\u001b[38;5;241m1\u001b[39m]\n\u001b[0;32m      2\u001b[0m reduced_corr_matrix \u001b[38;5;241m=\u001b[39m np\u001b[38;5;241m.\u001b[39mzeros((number_features,number_features))\n\u001b[0;32m      4\u001b[0m \u001b[38;5;28;01mfor\u001b[39;00m i \u001b[38;5;129;01min\u001b[39;00m \u001b[38;5;28mrange\u001b[39m(number_features):\n",
      "\u001b[1;31mNameError\u001b[0m: name 'x_reduced' is not defined"
     ]
    }
   ],
   "source": [
    "number_features=x_reduced.shape[1]\n",
    "reduced_corr_matrix = np.zeros((number_features,number_features))\n",
    "\n",
    "for i in range(number_features):\n",
    "    for j in range(number_features):\n",
    "        corr = np.corrcoef(x_reduced[:,i], x_reduced[:,j])[1,0]\n",
    "        reduced_corr_matrix[i][j]=corr"
   ]
  },
  {
   "cell_type": "code",
   "execution_count": null,
   "id": "2cb4daf3",
   "metadata": {},
   "outputs": [],
   "source": [
    "plt.figure(figsize=(80,30))\n",
    "plt.rc('font',size=30)\n",
    "sns.heatmap(reduced_corr_matrix,vmin = -1, vmax = 1, cmap = 'coolwarm',linewidths = .5, annot=True, annot_kws = {\"size\":30})\n",
    "plt.show()"
   ]
  },
  {
   "cell_type": "code",
   "execution_count": null,
   "id": "6fa2ab8b",
   "metadata": {},
   "outputs": [],
   "source": [
    "# 17,18,8 --> 8\n",
    "\n",
    "axis = 1 #rows (0), columns (1)\n",
    "obj = [17,18]\n",
    "x_reduced = np.delete(x_reduced,obj,axis)\n",
    "tx_reduced = np.c_[np.ones((y.shape[0], 1)), x_reduced]"
   ]
  },
  {
   "cell_type": "code",
   "execution_count": null,
   "id": "bd2c9e7b",
   "metadata": {},
   "outputs": [],
   "source": [
    "number_features=x_reduced.shape[1]\n",
    "reduced_corr_matrix = np.zeros((number_features,number_features))\n",
    "\n",
    "for i in range(number_features):\n",
    "    for j in range(number_features):\n",
    "        corr = np.corrcoef(x_reduced[:,i], x_reduced[:,j])[1,0]\n",
    "        reduced_corr_matrix[i][j]=corr"
   ]
  },
  {
   "cell_type": "code",
   "execution_count": null,
   "id": "f25a8a51",
   "metadata": {},
   "outputs": [],
   "source": []
  },
  {
   "cell_type": "code",
   "execution_count": 28,
   "id": "baf86347",
   "metadata": {},
   "outputs": [
    {
     "name": "stdout",
     "output_type": "stream",
     "text": [
      "train loss :  0.8018188657035095 test loss :  0.8234563765144557\n"
     ]
    }
   ],
   "source": [
    "\n",
    "\n",
    "k_indices = build_k_indices(y, 2, 1)\n",
    "loss_train, loss_test = cross_validation_least_squares(y, tx, k_indices, 1)\n",
    "print(\"train loss : \", loss_train, \"test loss : \", loss_test)\n"
   ]
  },
  {
   "cell_type": "code",
   "execution_count": 29,
   "id": "2b3cfc71",
   "metadata": {},
   "outputs": [
    {
     "name": "stdout",
     "output_type": "stream",
     "text": [
      "<class 'numpy.ndarray'>\n",
      "train loss all features:  1.1773948996375956 test loss all features:  0.9999929598329437\n"
     ]
    }
   ],
   "source": [
    "k_indices = build_k_indices(y, 2, 1)\n",
    "initial_w = np.zeros((tx.shape[1], 1))\n",
    "initial_w += 0\n",
    "print(type(y))\n",
    "loss_train, loss_test = cross_validation_logistic_regression(y, tx, initial_w,  k_indices, 1)\n",
    "print(\"train loss all features: \", loss_train, \"test loss all features: \", loss_test)"
   ]
  },
  {
   "cell_type": "code",
   "execution_count": 30,
   "id": "f160a5f7",
   "metadata": {},
   "outputs": [
    {
     "name": "stdout",
     "output_type": "stream",
     "text": [
      " the choice of lambda which leads to the best test rmse is 0.000000010 with a test rmse of 0.338\n"
     ]
    },
    {
     "data": {
      "image/png": "[encoded data removed]",
      "text/plain": [
       "<Figure size 432x288 with 1 Axes>"
      ]
     },
     "metadata": {
      "needs_background": "light"
     },
     "output_type": "display_data"
    }
   ],
   "source": [
    "initial_w = np.zeros((tx.shape[1], 1))\n",
    "\n",
    "\n",
    "best_lambda, best_rmse = find_best_lambda_reg_logistic_regression(tx, y, initial_w, 4, np.logspace(-8, -1, 10))"
   ]
  },
  {
   "cell_type": "code",
   "execution_count": null,
   "id": "119f389b",
   "metadata": {},
   "outputs": [],
   "source": []
  }
 ],
 "metadata": {
  "kernelspec": {
   "display_name": "Python 3 (ipykernel)",
   "language": "python",
   "name": "python3"
  },
  "language_info": {
   "codemirror_mode": {
    "name": "ipython",
    "version": 3
   },
   "file_extension": ".py",
   "mimetype": "text/x-python",
   "name": "python",
   "nbconvert_exporter": "python",
   "pygments_lexer": "ipython3",
   "version": "3.9.12"
  }
 },
 "nbformat": 4,
 "nbformat_minor": 5
}
